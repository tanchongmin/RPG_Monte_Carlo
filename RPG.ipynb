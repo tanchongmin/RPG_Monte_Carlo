{
 "cells": [
  {
   "cell_type": "markdown",
   "metadata": {},
   "source": [
    "## Custom Difficulty RPG\n",
    "- Use Monte Carlo to find out the % chance of winning an enemy\n",
    "- Tune the % chance of winning to desired difficulty!!\n"
   ]
  },
  {
   "cell_type": "markdown",
   "metadata": {},
   "source": [
    "# Coding the Interface"
   ]
  },
  {
   "cell_type": "code",
   "execution_count": 66,
   "metadata": {},
   "outputs": [],
   "source": [
    "import numpy as np\n",
    "from IPython.display import clear_output\n",
    "\n",
    "class color:\n",
    "   PURPLE = '\\033[95m'\n",
    "   CYAN = '\\033[96m'\n",
    "   DARKCYAN = '\\033[36m'\n",
    "   BLUE = '\\033[94m'\n",
    "   GREEN = '\\033[92m'\n",
    "   YELLOW = '\\033[93m'\n",
    "   RED = '\\033[91m'\n",
    "   BOLD = '\\033[1m'\n",
    "   UNDERLINE = '\\033[4m'\n",
    "   END = '\\033[0m'"
   ]
  },
  {
   "cell_type": "code",
   "execution_count": 67,
   "metadata": {},
   "outputs": [],
   "source": [
    "def PrintInterface():\n",
    "    print(\"Own Hp:\", ownhp)\n",
    "    print(\"Enemy Hp:\", enemyhp)\n",
    "    print()\n",
    "    print(color.BOLD + \"Available Moves:\" + color.END)\n",
    "    for skill in ownskills:\n",
    "        if ownskills[skill].isavailable():\n",
    "            print(skill, str(vars(ownskills[skill])))\n",
    "        \n",
    "    print()\n",
    "    print(color.BOLD + \"Moves on Cooldown:\" + color.END)\n",
    "    hascooldown = False\n",
    "    for skill in ownskills:\n",
    "        if not ownskills[skill].isavailable():\n",
    "            print(skill, str(vars(ownskills[skill])))  \n",
    "            hascooldown = True\n",
    "    if not hascooldown:\n",
    "        print(\"None\")\n",
    "    print()"
   ]
  },
  {
   "cell_type": "code",
   "execution_count": 80,
   "metadata": {},
   "outputs": [],
   "source": [
    "class Skill:\n",
    "    def __init__(self, dmg, cd, moves_to_use = 0):\n",
    "        self.dmg = dmg\n",
    "        self.cd = cd\n",
    "        self.moves_to_use = moves_to_use\n",
    "        \n",
    "    # Returns if the skill can be used\n",
    "    def isavailable(self):\n",
    "        return self.moves_to_use == 0\n",
    "        \n",
    "    # Use the current skill\n",
    "    def useskill(self):\n",
    "        self.moves_to_use = self.cd + 1\n",
    "        \n",
    "    # delays a turn \n",
    "    def delayturn(self):\n",
    "        self.moves_to_use = max(0, self.moves_to_use-1)\n",
    "        \n",
    "    # resets the cd\n",
    "    def reset(self):\n",
    "        self.moves_to_use = 0"
   ]
  },
  {
   "cell_type": "code",
   "execution_count": 91,
   "metadata": {},
   "outputs": [],
   "source": [
    "# Returns the desired enemy hp to get a scaled %hp difficulty\n",
    "# Also returns as optional parameter, the sequence of moves\n",
    "def GetCustomDifficulty(ownhp, enemyattack, ownskills, difficulty = 0.9, numgames = 10):\n",
    "    besthp = 0\n",
    "    bestsequence = []\n",
    "    for i in range(numgames):\n",
    "        currenthp = 0\n",
    "        currentsequence = []\n",
    "        newownhp = ownhp\n",
    "        for skill in ownskills:\n",
    "            ownskills[skill].reset()\n",
    "            \n",
    "        # Gameplay Interface\n",
    "        while newownhp > 0:\n",
    "            # Delay a turn for all moves\n",
    "            for skill in ownskills:\n",
    "                ownskills[skill].delayturn()\n",
    "\n",
    "            # Select a random skill\n",
    "            skill = np.random.choice(list(ownskills.keys()))\n",
    "            while not (skill.lower() in ownskills and ownskills[skill].isavailable()):\n",
    "                skill = np.random.choice(list(ownskills.keys()))\n",
    "            currentsequence.append(skill)\n",
    "\n",
    "            # Enemy gets damaged\n",
    "            currenthp += ownskills[skill].dmg\n",
    "            ownskills[skill].useskill()\n",
    "\n",
    "            # You get damaged\n",
    "            newownhp -= enemyattack\n",
    "            \n",
    "        if currenthp > besthp:\n",
    "            besthp = currenthp\n",
    "            bestsequence = currentsequence\n",
    "        \n",
    "    return int(besthp * difficulty), bestsequence"
   ]
  },
  {
   "cell_type": "code",
   "execution_count": 105,
   "metadata": {},
   "outputs": [
    {
     "name": "stdout",
     "output_type": "stream",
     "text": [
      "\u001b[1mTurn Summary:\u001b[0m\n",
      "You hit enemy with attack for 10 damage.\n",
      "You win!\n"
     ]
    }
   ],
   "source": [
    "ownhp = 100\n",
    "enemyhp = 100\n",
    "enemyattack = 10\n",
    "ownskills = {\"attack\": Skill(10, 0), \n",
    "             \"fire ball\": Skill(20, 1), \n",
    "             \"ice bolt\": Skill(50, 2),\n",
    "            \"lightning\": Skill(1000, 5)}\n",
    "\n",
    "# Use Monte Carlo Method to estimate difficulty\n",
    "enemyhp, bestseq = GetCustomDifficulty(ownhp, enemyattack, ownskills, difficulty = 0.9, numgames = 100)\n",
    "print(bestseq)\n",
    "\n",
    "for skill in ownskills:\n",
    "    ownskills[skill].reset()\n",
    "\n",
    "# Gameplay Interface\n",
    "while ownhp > 0 and enemyhp > 0:\n",
    "    # Delay a turn for all moves\n",
    "    for skill in ownskills:\n",
    "        ownskills[skill].delayturn()\n",
    "        \n",
    "    # Print Interface\n",
    "    PrintInterface()\n",
    "    skill = input(\"Key in a move\")\n",
    "    # Keep repeating the move until it is a valid move\n",
    "    while not (skill.lower() in ownskills and ownskills[skill].isavailable()):\n",
    "        skill = input(\"Key in a move: \")\n",
    "        \n",
    "    clear_output(wait=True)\n",
    "    \n",
    "    # Enemy gets damaged\n",
    "    enemyhp -= ownskills[skill].dmg\n",
    "    ownskills[skill].useskill()\n",
    "    \n",
    "    print(color.BOLD + \"Turn Summary:\" + color.END)\n",
    "    print(f\"You hit enemy with {skill} for {ownskills[skill].dmg} damage.\")\n",
    "    \n",
    "    \n",
    "    # You get damaged\n",
    "    if enemyhp > 0:\n",
    "        ownhp -= enemyattack\n",
    "        print(f\"The enemy hits you for {enemyattack} damage.\")\n",
    "        print()\n",
    "    \n",
    "if ownhp > 0:\n",
    "    print(\"You win!\")\n",
    "else:\n",
    "    print(\"You lose!\")"
   ]
  },
  {
   "cell_type": "code",
   "execution_count": null,
   "metadata": {},
   "outputs": [],
   "source": []
  }
 ],
 "metadata": {
  "kernelspec": {
   "display_name": "Python 3",
   "language": "python",
   "name": "python3"
  },
  "language_info": {
   "codemirror_mode": {
    "name": "ipython",
    "version": 3
   },
   "file_extension": ".py",
   "mimetype": "text/x-python",
   "name": "python",
   "nbconvert_exporter": "python",
   "pygments_lexer": "ipython3",
   "version": "3.7.6"
  }
 },
 "nbformat": 4,
 "nbformat_minor": 4
}
